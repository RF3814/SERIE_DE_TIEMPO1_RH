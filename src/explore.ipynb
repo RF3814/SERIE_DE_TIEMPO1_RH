{
    "cells": [
        {
            "cell_type": "markdown",
            "metadata": {},
            "source": [
                "# Explore here"
            ]
        },
        {
            "cell_type": "code",
            "execution_count": 2,
            "metadata": {},
            "outputs": [
                {
                    "data": {
                        "text/html": [
                            "<div>\n",
                            "<style scoped>\n",
                            "    .dataframe tbody tr th:only-of-type {\n",
                            "        vertical-align: middle;\n",
                            "    }\n",
                            "\n",
                            "    .dataframe tbody tr th {\n",
                            "        vertical-align: top;\n",
                            "    }\n",
                            "\n",
                            "    .dataframe thead th {\n",
                            "        text-align: right;\n",
                            "    }\n",
                            "</style>\n",
                            "<table border=\"1\" class=\"dataframe\">\n",
                            "  <thead>\n",
                            "    <tr style=\"text-align: right;\">\n",
                            "      <th></th>\n",
                            "      <th>date</th>\n",
                            "      <th>sales</th>\n",
                            "    </tr>\n",
                            "  </thead>\n",
                            "  <tbody>\n",
                            "    <tr>\n",
                            "      <th>0</th>\n",
                            "      <td>2022-09-03 17:10:08.079328</td>\n",
                            "      <td>55.292157</td>\n",
                            "    </tr>\n",
                            "    <tr>\n",
                            "      <th>1</th>\n",
                            "      <td>2022-09-04 17:10:08.079328</td>\n",
                            "      <td>53.803211</td>\n",
                            "    </tr>\n",
                            "    <tr>\n",
                            "      <th>2</th>\n",
                            "      <td>2022-09-05 17:10:08.079328</td>\n",
                            "      <td>58.141693</td>\n",
                            "    </tr>\n",
                            "    <tr>\n",
                            "      <th>3</th>\n",
                            "      <td>2022-09-06 17:10:08.079328</td>\n",
                            "      <td>64.530899</td>\n",
                            "    </tr>\n",
                            "    <tr>\n",
                            "      <th>4</th>\n",
                            "      <td>2022-09-07 17:10:08.079328</td>\n",
                            "      <td>66.013633</td>\n",
                            "    </tr>\n",
                            "  </tbody>\n",
                            "</table>\n",
                            "</div>"
                        ],
                        "text/plain": [
                            "                         date      sales\n",
                            "0  2022-09-03 17:10:08.079328  55.292157\n",
                            "1  2022-09-04 17:10:08.079328  53.803211\n",
                            "2  2022-09-05 17:10:08.079328  58.141693\n",
                            "3  2022-09-06 17:10:08.079328  64.530899\n",
                            "4  2022-09-07 17:10:08.079328  66.013633"
                        ]
                    },
                    "execution_count": 2,
                    "metadata": {},
                    "output_type": "execute_result"
                }
            ],
            "source": [
                "# Your code here\n",
                "import pandas as pd\n",
                "df=pd.read_csv(\"https://raw.githubusercontent.com/4GeeksAcademy/alternative-time-series-project/main/sales.csv\")\n",
                "df.head()"
            ]
        },
        {
            "cell_type": "code",
            "execution_count": 3,
            "metadata": {},
            "outputs": [
                {
                    "name": "stdout",
                    "output_type": "stream",
                    "text": [
                        "<class 'pandas.core.frame.DataFrame'>\n",
                        "RangeIndex: 366 entries, 0 to 365\n",
                        "Data columns (total 2 columns):\n",
                        " #   Column  Non-Null Count  Dtype  \n",
                        "---  ------  --------------  -----  \n",
                        " 0   date    366 non-null    object \n",
                        " 1   sales   366 non-null    float64\n",
                        "dtypes: float64(1), object(1)\n",
                        "memory usage: 5.8+ KB\n"
                    ]
                },
                {
                    "data": {
                        "text/plain": [
                            "date\n",
                            "2022-09-03 17:10:08.079328    55.292157\n",
                            "2022-09-04 17:10:08.079328    53.803211\n",
                            "2022-09-05 17:10:08.079328    58.141693\n",
                            "2022-09-06 17:10:08.079328    64.530899\n",
                            "2022-09-07 17:10:08.079328    66.013633\n",
                            "Name: sales, dtype: float64"
                        ]
                    },
                    "execution_count": 3,
                    "metadata": {},
                    "output_type": "execute_result"
                }
            ],
            "source": [
                "df.info()\n",
                "df[\"date\"]=pd.to_datetime(df[\"date\"])\n",
                "df=df.set_index(\"date\")\n",
                "ts=df[\"sales\"]\n",
                "ts.head()"
            ]
        },
        {
            "cell_type": "code",
            "execution_count": 4,
            "metadata": {},
            "outputs": [
                {
                    "data": {
                        "image/png": "[encoded data removed]",
                        "text/plain": [
                            "<Figure size 640x480 with 1 Axes>"
                        ]
                    },
                    "metadata": {},
                    "output_type": "display_data"
                }
            ],
            "source": [
                "import matplotlib.pyplot as plt\n",
                "import seaborn as sns\n",
                "sns.lineplot(data=ts)\n",
                "plt.tight_layout()\n",
                "plt.show()\n"
            ]
        },
        {
            "cell_type": "code",
            "execution_count": 5,
            "metadata": {},
            "outputs": [
                {
                    "name": "stdout",
                    "output_type": "stream",
                    "text": [
                        "Defaulting to user installation because normal site-packages is not writeable\n",
                        "Requirement already satisfied: statsmodels in /home/vscode/.local/lib/python3.11/site-packages (0.14.5)\n",
                        "Requirement already satisfied: numpy<3,>=1.22.3 in /home/vscode/.local/lib/python3.11/site-packages (from statsmodels) (1.26.4)\n",
                        "Requirement already satisfied: scipy!=1.9.2,>=1.8 in /home/vscode/.local/lib/python3.11/site-packages (from statsmodels) (1.16.1)\n",
                        "Requirement already satisfied: pandas!=2.1.0,>=1.4 in /home/vscode/.local/lib/python3.11/site-packages (from statsmodels) (2.3.1)\n",
                        "Requirement already satisfied: patsy>=0.5.6 in /home/vscode/.local/lib/python3.11/site-packages (from statsmodels) (1.0.1)\n",
                        "Requirement already satisfied: packaging>=21.3 in /home/vscode/.local/lib/python3.11/site-packages (from statsmodels) (25.0)\n",
                        "Requirement already satisfied: python-dateutil>=2.8.2 in /home/vscode/.local/lib/python3.11/site-packages (from pandas!=2.1.0,>=1.4->statsmodels) (2.9.0.post0)\n",
                        "Requirement already satisfied: pytz>=2020.1 in /home/vscode/.local/lib/python3.11/site-packages (from pandas!=2.1.0,>=1.4->statsmodels) (2025.2)\n",
                        "Requirement already satisfied: tzdata>=2022.7 in /home/vscode/.local/lib/python3.11/site-packages (from pandas!=2.1.0,>=1.4->statsmodels) (2025.2)\n",
                        "Requirement already satisfied: six>=1.5 in /home/vscode/.local/lib/python3.11/site-packages (from python-dateutil>=2.8.2->pandas!=2.1.0,>=1.4->statsmodels) (1.17.0)\n"
                    ]
                }
            ],
            "source": [
                "!pip install statsmodels"
            ]
        },
        {
            "cell_type": "code",
            "execution_count": 6,
            "metadata": {},
            "outputs": [
                {
                    "name": "stdout",
                    "output_type": "stream",
                    "text": [
                        "Defaulting to user installation because normal site-packages is not writeable\n",
                        "Requirement already satisfied: pip in /home/vscode/.local/lib/python3.11/site-packages (25.2)\n"
                    ]
                }
            ],
            "source": [
                "!pip install --upgrade pip"
            ]
        },
        {
            "cell_type": "code",
            "execution_count": 7,
            "metadata": {},
            "outputs": [
                {
                    "ename": "ImportError",
                    "evalue": "cannot import name 'seasonal_descompose' from 'statsmodels.tsa.seasonal' (/home/vscode/.local/lib/python3.11/site-packages/statsmodels/tsa/seasonal.py)",
                    "output_type": "error",
                    "traceback": [
                        "\u001b[31m---------------------------------------------------------------------------\u001b[39m",
                        "\u001b[31mImportError\u001b[39m                               Traceback (most recent call last)",
                        "\u001b[36mCell\u001b[39m\u001b[36m \u001b[39m\u001b[32mIn[7]\u001b[39m\u001b[32m, line 1\u001b[39m\n\u001b[32m----> \u001b[39m\u001b[32m1\u001b[39m \u001b[38;5;28;01mfrom\u001b[39;00m\u001b[38;5;250m \u001b[39m\u001b[34;01mstatsmodels\u001b[39;00m\u001b[34;01m.\u001b[39;00m\u001b[34;01mtsa\u001b[39;00m\u001b[34;01m.\u001b[39;00m\u001b[34;01mseasonal\u001b[39;00m\u001b[38;5;250m \u001b[39m\u001b[38;5;28;01mimport\u001b[39;00m seasonal_descompose\n\u001b[32m      2\u001b[39m dp=seasonal_descompose(ts)\n\u001b[32m      3\u001b[39m trend=dp.trend\n",
                        "\u001b[31mImportError\u001b[39m: cannot import name 'seasonal_descompose' from 'statsmodels.tsa.seasonal' (/home/vscode/.local/lib/python3.11/site-packages/statsmodels/tsa/seasonal.py)"
                    ]
                }
            ],
            "source": [
                "from statsmodels.tsa.seasonal import seasonal_descompose\n",
                "dp=seasonal_descompose(ts)\n",
                "trend=dp.trend\n",
                "seasonal=dp.seasonal\n",
                "resid=dp.resid\n"
            ]
        },
        {
            "cell_type": "code",
            "execution_count": null,
            "metadata": {},
            "outputs": [
                {
                    "ename": "NameError",
                    "evalue": "name 'trend' is not defined",
                    "output_type": "error",
                    "traceback": [
                        "\u001b[31m---------------------------------------------------------------------------\u001b[39m",
                        "\u001b[31mNameError\u001b[39m                                 Traceback (most recent call last)",
                        "\u001b[36mCell\u001b[39m\u001b[36m \u001b[39m\u001b[32mIn[20]\u001b[39m\u001b[32m, line 2\u001b[39m\n\u001b[32m      1\u001b[39m sns.lineplot(data=ts, label=\u001b[33m\"\u001b[39m\u001b[33mserie de timepo\u001b[39m\u001b[33m\"\u001b[39m)\n\u001b[32m----> \u001b[39m\u001b[32m2\u001b[39m sns.lineplot(data=\u001b[43mtrend\u001b[49m, label=\u001b[33m\"\u001b[39m\u001b[33mtendencia\u001b[39m\u001b[33m\"\u001b[39m)\n\u001b[32m      3\u001b[39m sns.lineplot(data=seasonal,label=\u001b[33m\"\u001b[39m\u001b[33mestacionalidad\u001b[39m\u001b[33m\"\u001b[39m)\n\u001b[32m      4\u001b[39m sns.lineplot(data=resid)\n",
                        "\u001b[31mNameError\u001b[39m: name 'trend' is not defined"
                    ]
                },
                {
                    "data": {
                        "image/png": "[encoded data removed]",
                        "text/plain": [
                            "<Figure size 640x480 with 1 Axes>"
                        ]
                    },
                    "metadata": {},
                    "output_type": "display_data"
                }
            ],
            "source": [
                "sns.lineplot(data=ts, label=\"serie de timepo\")\n",
                "sns.lineplot(data=trend, label=\"tendencia\")\n",
                "sns.lineplot(data=seasonal,label=\"estacionalidad\")\n",
                "sns.lineplot(data=resid)\n",
                "plt.legend()\n",
                "plt.show()\n",
                "\n"
            ]
        },
        {
            "cell_type": "code",
            "execution_count": null,
            "metadata": {},
            "outputs": [],
            "source": [
                "from statsmodels.tsa.stattools import adfuller\n",
                "def test_stationarity(timeseries):\n",
                "    print(\"Resultados de la prueba de Dickey-Fuller:\")\n",
                "    dftest = adfuller(timeseries, autolag = \"AIC\")\n",
                "    dfoutput = pd.Series(dftest[0:4], index = [\"Test Statistic\", \"p-value\", \"#Lags Used\", \"Number of Observations Used\"])\n",
                "    for key,value in dftest[4].items():\n",
                "        dfoutput[\"Critical Value (%s)\"%key] = value\n",
                "    return dfoutput\n",
                "\n"
            ]
        },
        {
            "cell_type": "code",
            "execution_count": null,
            "metadata": {},
            "outputs": [],
            "source": [
                "from statsmodels.graphics.tsaplots import seasonal_plot\n",
                "\n"
            ]
        },
        {
            "cell_type": "code",
            "execution_count": null,
            "metadata": {},
            "outputs": [
                {
                    "name": "stdout",
                    "output_type": "stream",
                    "text": [
                        "Defaulting to user installation because normal site-packages is not writeable\n",
                        "Collecting pmdarima\n",
                        "  Downloading pmdarima-2.0.4-cp311-cp311-manylinux_2_17_x86_64.manylinux2014_x86_64.manylinux_2_28_x86_64.whl.metadata (7.8 kB)\n",
                        "Requirement already satisfied: joblib>=0.11 in /home/vscode/.local/lib/python3.11/site-packages (from pmdarima) (1.5.1)\n",
                        "Collecting Cython!=0.29.18,!=0.29.31,>=0.29 (from pmdarima)\n",
                        "  Downloading cython-3.1.2-cp311-cp311-manylinux_2_17_x86_64.manylinux2014_x86_64.whl.metadata (5.9 kB)\n",
                        "Requirement already satisfied: numpy>=1.21.2 in /home/vscode/.local/lib/python3.11/site-packages (from pmdarima) (2.2.6)\n",
                        "Requirement already satisfied: pandas>=0.19 in /home/vscode/.local/lib/python3.11/site-packages (from pmdarima) (2.3.1)\n",
                        "Requirement already satisfied: scikit-learn>=0.22 in /home/vscode/.local/lib/python3.11/site-packages (from pmdarima) (1.7.1)\n",
                        "Requirement already satisfied: scipy>=1.3.2 in /home/vscode/.local/lib/python3.11/site-packages (from pmdarima) (1.16.1)\n",
                        "Requirement already satisfied: statsmodels>=0.13.2 in /home/vscode/.local/lib/python3.11/site-packages (from pmdarima) (0.14.5)\n",
                        "Requirement already satisfied: urllib3 in /home/vscode/.local/lib/python3.11/site-packages (from pmdarima) (2.5.0)\n",
                        "Requirement already satisfied: setuptools!=50.0.0,>=38.6.0 in /usr/local/lib/python3.11/site-packages (from pmdarima) (67.8.0)\n",
                        "Requirement already satisfied: packaging>=17.1 in /home/vscode/.local/lib/python3.11/site-packages (from pmdarima) (25.0)\n",
                        "Requirement already satisfied: python-dateutil>=2.8.2 in /home/vscode/.local/lib/python3.11/site-packages (from pandas>=0.19->pmdarima) (2.9.0.post0)\n",
                        "Requirement already satisfied: pytz>=2020.1 in /home/vscode/.local/lib/python3.11/site-packages (from pandas>=0.19->pmdarima) (2025.2)\n",
                        "Requirement already satisfied: tzdata>=2022.7 in /home/vscode/.local/lib/python3.11/site-packages (from pandas>=0.19->pmdarima) (2025.2)\n",
                        "Requirement already satisfied: six>=1.5 in /home/vscode/.local/lib/python3.11/site-packages (from python-dateutil>=2.8.2->pandas>=0.19->pmdarima) (1.17.0)\n",
                        "Requirement already satisfied: threadpoolctl>=3.1.0 in /home/vscode/.local/lib/python3.11/site-packages (from scikit-learn>=0.22->pmdarima) (3.6.0)\n",
                        "Requirement already satisfied: patsy>=0.5.6 in /home/vscode/.local/lib/python3.11/site-packages (from statsmodels>=0.13.2->pmdarima) (1.0.1)\n",
                        "Downloading pmdarima-2.0.4-cp311-cp311-manylinux_2_17_x86_64.manylinux2014_x86_64.manylinux_2_28_x86_64.whl (2.2 MB)\n",
                        "\u001b[2K   \u001b[90m━━━━━━━━━━━━━━━━━━━━━━━━━━━━━━━━━━━━━━━━\u001b[0m \u001b[32m2.2/2.2 MB\u001b[0m \u001b[31m37.4 MB/s\u001b[0m  \u001b[33m0:00:00\u001b[0m\n",
                        "\u001b[?25hDownloading cython-3.1.2-cp311-cp311-manylinux_2_17_x86_64.manylinux2014_x86_64.whl (3.2 MB)\n",
                        "\u001b[2K   \u001b[90m━━━━━━━━━━━━━━━━━━━━━━━━━━━━━━━━━━━━━━━━\u001b[0m \u001b[32m3.2/3.2 MB\u001b[0m \u001b[31m46.7 MB/s\u001b[0m  \u001b[33m0:00:00\u001b[0m\n",
                        "\u001b[?25hInstalling collected packages: Cython, pmdarima\n",
                        "\u001b[2K   \u001b[90m━━━━━━━━━━━━━━━━━━━━━━━━━━━━━━━━━━━━━━━━\u001b[0m \u001b[32m2/2\u001b[0m [pmdarima]1/2\u001b[0m [pmdarima]\n",
                        "\u001b[1A\u001b[2KSuccessfully installed Cython-3.1.2 pmdarima-2.0.4\n"
                    ]
                }
            ],
            "source": [
                "!pip install pmdarima"
            ]
        },
        {
            "cell_type": "code",
            "execution_count": 8,
            "metadata": {},
            "outputs": [
                {
                    "name": "stderr",
                    "output_type": "stream",
                    "text": [
                        "/home/vscode/.local/lib/python3.11/site-packages/pmdarima/arima/_validation.py:62: UserWarning: m (7) set for non-seasonal fit. Setting to 0\n",
                        "  warnings.warn(\"m (%i) set for non-seasonal fit. Setting to 0\" % m)\n",
                        "/home/vscode/.local/lib/python3.11/site-packages/sklearn/utils/deprecation.py:132: FutureWarning: 'force_all_finite' was renamed to 'ensure_all_finite' in 1.6 and will be removed in 1.8.\n",
                        "  warnings.warn(\n",
                        "/home/vscode/.local/lib/python3.11/site-packages/sklearn/utils/deprecation.py:132: FutureWarning: 'force_all_finite' was renamed to 'ensure_all_finite' in 1.6 and will be removed in 1.8.\n",
                        "  warnings.warn(\n",
                        "/home/vscode/.local/lib/python3.11/site-packages/sklearn/utils/deprecation.py:132: FutureWarning: 'force_all_finite' was renamed to 'ensure_all_finite' in 1.6 and will be removed in 1.8.\n",
                        "  warnings.warn(\n",
                        "/home/vscode/.local/lib/python3.11/site-packages/sklearn/utils/deprecation.py:132: FutureWarning: 'force_all_finite' was renamed to 'ensure_all_finite' in 1.6 and will be removed in 1.8.\n",
                        "  warnings.warn(\n",
                        "/home/vscode/.local/lib/python3.11/site-packages/sklearn/utils/deprecation.py:132: FutureWarning: 'force_all_finite' was renamed to 'ensure_all_finite' in 1.6 and will be removed in 1.8.\n",
                        "  warnings.warn(\n",
                        "/home/vscode/.local/lib/python3.11/site-packages/sklearn/utils/deprecation.py:132: FutureWarning: 'force_all_finite' was renamed to 'ensure_all_finite' in 1.6 and will be removed in 1.8.\n",
                        "  warnings.warn(\n",
                        "/home/vscode/.local/lib/python3.11/site-packages/sklearn/utils/deprecation.py:132: FutureWarning: 'force_all_finite' was renamed to 'ensure_all_finite' in 1.6 and will be removed in 1.8.\n",
                        "  warnings.warn(\n",
                        "/home/vscode/.local/lib/python3.11/site-packages/sklearn/utils/deprecation.py:132: FutureWarning: 'force_all_finite' was renamed to 'ensure_all_finite' in 1.6 and will be removed in 1.8.\n",
                        "  warnings.warn(\n",
                        "/home/vscode/.local/lib/python3.11/site-packages/sklearn/utils/deprecation.py:132: FutureWarning: 'force_all_finite' was renamed to 'ensure_all_finite' in 1.6 and will be removed in 1.8.\n",
                        "  warnings.warn(\n"
                    ]
                },
                {
                    "name": "stdout",
                    "output_type": "stream",
                    "text": [
                        "Performing stepwise search to minimize aic\n",
                        " ARIMA(2,1,2)(0,0,0)[0] intercept   : AIC=1843.162, Time=0.58 sec\n",
                        " ARIMA(0,1,0)(0,0,0)[0] intercept   : AIC=2096.542, Time=0.02 sec\n",
                        " ARIMA(1,1,0)(0,0,0)[0] intercept   : AIC=1970.972, Time=0.04 sec\n",
                        " ARIMA(0,1,1)(0,0,0)[0] intercept   : AIC=1839.586, Time=0.11 sec\n",
                        " ARIMA(0,1,0)(0,0,0)[0]             : AIC=2209.657, Time=0.01 sec\n"
                    ]
                },
                {
                    "name": "stderr",
                    "output_type": "stream",
                    "text": [
                        "/home/vscode/.local/lib/python3.11/site-packages/sklearn/utils/deprecation.py:132: FutureWarning: 'force_all_finite' was renamed to 'ensure_all_finite' in 1.6 and will be removed in 1.8.\n",
                        "  warnings.warn(\n",
                        "/home/vscode/.local/lib/python3.11/site-packages/sklearn/utils/deprecation.py:132: FutureWarning: 'force_all_finite' was renamed to 'ensure_all_finite' in 1.6 and will be removed in 1.8.\n",
                        "  warnings.warn(\n",
                        "/home/vscode/.local/lib/python3.11/site-packages/sklearn/utils/deprecation.py:132: FutureWarning: 'force_all_finite' was renamed to 'ensure_all_finite' in 1.6 and will be removed in 1.8.\n",
                        "  warnings.warn(\n",
                        "/home/vscode/.local/lib/python3.11/site-packages/sklearn/utils/deprecation.py:132: FutureWarning: 'force_all_finite' was renamed to 'ensure_all_finite' in 1.6 and will be removed in 1.8.\n",
                        "  warnings.warn(\n",
                        "/home/vscode/.local/lib/python3.11/site-packages/sklearn/utils/deprecation.py:132: FutureWarning: 'force_all_finite' was renamed to 'ensure_all_finite' in 1.6 and will be removed in 1.8.\n",
                        "  warnings.warn(\n"
                    ]
                },
                {
                    "name": "stdout",
                    "output_type": "stream",
                    "text": [
                        " ARIMA(1,1,1)(0,0,0)[0] intercept   : AIC=1839.552, Time=0.26 sec\n"
                    ]
                },
                {
                    "name": "stderr",
                    "output_type": "stream",
                    "text": [
                        "/home/vscode/.local/lib/python3.11/site-packages/sklearn/utils/deprecation.py:132: FutureWarning: 'force_all_finite' was renamed to 'ensure_all_finite' in 1.6 and will be removed in 1.8.\n",
                        "  warnings.warn(\n"
                    ]
                },
                {
                    "name": "stdout",
                    "output_type": "stream",
                    "text": [
                        " ARIMA(2,1,1)(0,0,0)[0] intercept   : AIC=1841.532, Time=0.50 sec\n",
                        " ARIMA(1,1,2)(0,0,0)[0] intercept   : AIC=1843.586, Time=0.17 sec\n"
                    ]
                },
                {
                    "name": "stderr",
                    "output_type": "stream",
                    "text": [
                        "/home/vscode/.local/lib/python3.11/site-packages/sklearn/utils/deprecation.py:132: FutureWarning: 'force_all_finite' was renamed to 'ensure_all_finite' in 1.6 and will be removed in 1.8.\n",
                        "  warnings.warn(\n",
                        "/home/vscode/.local/lib/python3.11/site-packages/sklearn/utils/deprecation.py:132: FutureWarning: 'force_all_finite' was renamed to 'ensure_all_finite' in 1.6 and will be removed in 1.8.\n",
                        "  warnings.warn(\n"
                    ]
                },
                {
                    "name": "stdout",
                    "output_type": "stream",
                    "text": [
                        " ARIMA(0,1,2)(0,0,0)[0] intercept   : AIC=1839.607, Time=0.21 sec\n",
                        " ARIMA(2,1,0)(0,0,0)[0] intercept   : AIC=1922.648, Time=0.06 sec\n"
                    ]
                },
                {
                    "name": "stderr",
                    "output_type": "stream",
                    "text": [
                        "/home/vscode/.local/lib/python3.11/site-packages/sklearn/utils/deprecation.py:132: FutureWarning: 'force_all_finite' was renamed to 'ensure_all_finite' in 1.6 and will be removed in 1.8.\n",
                        "  warnings.warn(\n",
                        "/home/vscode/.local/lib/python3.11/site-packages/sklearn/utils/deprecation.py:132: FutureWarning: 'force_all_finite' was renamed to 'ensure_all_finite' in 1.6 and will be removed in 1.8.\n",
                        "  warnings.warn(\n"
                    ]
                },
                {
                    "name": "stdout",
                    "output_type": "stream",
                    "text": [
                        " ARIMA(1,1,1)(0,0,0)[0]             : AIC=inf, Time=0.24 sec\n",
                        "\n",
                        "Best model:  ARIMA(1,1,1)(0,0,0)[0] intercept\n",
                        "Total fit time: 2.249 seconds\n"
                    ]
                }
            ],
            "source": [
                "from pmdarima import auto_arima\n",
                "model=auto_arima(ts,seasonal=False,trace=True,m=7)"
            ]
        },
        {
            "cell_type": "code",
            "execution_count": 9,
            "metadata": {},
            "outputs": [
                {
                    "name": "stderr",
                    "output_type": "stream",
                    "text": [
                        "/home/vscode/.local/lib/python3.11/site-packages/sklearn/utils/deprecation.py:132: FutureWarning: 'force_all_finite' was renamed to 'ensure_all_finite' in 1.6 and will be removed in 1.8.\n",
                        "  warnings.warn(\n"
                    ]
                }
            ],
            "source": [
                "forecast=model.predict(60)\n"
            ]
        },
        {
            "cell_type": "code",
            "execution_count": 10,
            "metadata": {},
            "outputs": [
                {
                    "data": {
                        "text/plain": [
                            "2023-09-04 17:10:08.079328    1002.158148\n",
                            "2023-09-05 17:10:08.079328    1004.831668\n",
                            "2023-09-06 17:10:08.079328    1007.423289\n",
                            "2023-09-07 17:10:08.079328    1010.021630\n",
                            "2023-09-08 17:10:08.079328    1012.619419\n",
                            "2023-09-09 17:10:08.079328    1015.217253\n",
                            "2023-09-10 17:10:08.079328    1017.815084\n",
                            "2023-09-11 17:10:08.079328    1020.412915\n",
                            "2023-09-12 17:10:08.079328    1023.010746\n",
                            "2023-09-13 17:10:08.079328    1025.608577\n",
                            "2023-09-14 17:10:08.079328    1028.206408\n",
                            "2023-09-15 17:10:08.079328    1030.804239\n",
                            "2023-09-16 17:10:08.079328    1033.402070\n",
                            "2023-09-17 17:10:08.079328    1035.999902\n",
                            "2023-09-18 17:10:08.079328    1038.597733\n",
                            "2023-09-19 17:10:08.079328    1041.195564\n",
                            "2023-09-20 17:10:08.079328    1043.793395\n",
                            "2023-09-21 17:10:08.079328    1046.391226\n",
                            "2023-09-22 17:10:08.079328    1048.989057\n",
                            "2023-09-23 17:10:08.079328    1051.586888\n",
                            "2023-09-24 17:10:08.079328    1054.184719\n",
                            "2023-09-25 17:10:08.079328    1056.782550\n",
                            "2023-09-26 17:10:08.079328    1059.380381\n",
                            "2023-09-27 17:10:08.079328    1061.978212\n",
                            "2023-09-28 17:10:08.079328    1064.576043\n",
                            "2023-09-29 17:10:08.079328    1067.173874\n",
                            "2023-09-30 17:10:08.079328    1069.771705\n",
                            "2023-10-01 17:10:08.079328    1072.369536\n",
                            "2023-10-02 17:10:08.079328    1074.967367\n",
                            "2023-10-03 17:10:08.079328    1077.565198\n",
                            "2023-10-04 17:10:08.079328    1080.163029\n",
                            "2023-10-05 17:10:08.079328    1082.760860\n",
                            "2023-10-06 17:10:08.079328    1085.358691\n",
                            "2023-10-07 17:10:08.079328    1087.956522\n",
                            "2023-10-08 17:10:08.079328    1090.554353\n",
                            "2023-10-09 17:10:08.079328    1093.152184\n",
                            "2023-10-10 17:10:08.079328    1095.750015\n",
                            "2023-10-11 17:10:08.079328    1098.347847\n",
                            "2023-10-12 17:10:08.079328    1100.945678\n",
                            "2023-10-13 17:10:08.079328    1103.543509\n",
                            "2023-10-14 17:10:08.079328    1106.141340\n",
                            "2023-10-15 17:10:08.079328    1108.739171\n",
                            "2023-10-16 17:10:08.079328    1111.337002\n",
                            "2023-10-17 17:10:08.079328    1113.934833\n",
                            "2023-10-18 17:10:08.079328    1116.532664\n",
                            "2023-10-19 17:10:08.079328    1119.130495\n",
                            "2023-10-20 17:10:08.079328    1121.728326\n",
                            "2023-10-21 17:10:08.079328    1124.326157\n",
                            "2023-10-22 17:10:08.079328    1126.923988\n",
                            "2023-10-23 17:10:08.079328    1129.521819\n",
                            "2023-10-24 17:10:08.079328    1132.119650\n",
                            "2023-10-25 17:10:08.079328    1134.717481\n",
                            "2023-10-26 17:10:08.079328    1137.315312\n",
                            "2023-10-27 17:10:08.079328    1139.913143\n",
                            "2023-10-28 17:10:08.079328    1142.510974\n",
                            "2023-10-29 17:10:08.079328    1145.108805\n",
                            "2023-10-30 17:10:08.079328    1147.706636\n",
                            "2023-10-31 17:10:08.079328    1150.304467\n",
                            "2023-11-01 17:10:08.079328    1152.902298\n",
                            "2023-11-02 17:10:08.079328    1155.500129\n",
                            "Freq: D, dtype: float64"
                        ]
                    },
                    "execution_count": 10,
                    "metadata": {},
                    "output_type": "execute_result"
                }
            ],
            "source": [
                "forecast"
            ]
        },
        {
            "cell_type": "code",
            "execution_count": 12,
            "metadata": {},
            "outputs": [
                {
                    "data": {
                        "text/plain": [
                            "<Axes: xlabel='date', ylabel='sales'>"
                        ]
                    },
                    "execution_count": 12,
                    "metadata": {},
                    "output_type": "execute_result"
                },
                {
                    "data": {
                        "image/png": "[encoded data removed]",
                        "text/plain": [
                            "<Figure size 640x480 with 1 Axes>"
                        ]
                    },
                    "metadata": {},
                    "output_type": "display_data"
                }
            ],
            "source": [
                "sns.lineplot(ts)\n",
                "sns.lineplot(sata=forecast,c=\"red\")"
            ]
        },
        {
            "cell_type": "code",
            "execution_count": null,
            "metadata": {},
            "outputs": [],
            "source": []
        }
    ],
    "metadata": {
        "kernelspec": {
            "display_name": "Python 3",
            "language": "python",
            "name": "python3"
        },
        "language_info": {
            "codemirror_mode": {
                "name": "ipython",
                "version": 3
            },
            "file_extension": ".py",
            "mimetype": "text/x-python",
            "name": "python",
            "nbconvert_exporter": "python",
            "pygments_lexer": "ipython3",
            "version": "3.11.4"
        },
        "orig_nbformat": 4
    },
    "nbformat": 4,
    "nbformat_minor": 2
}
